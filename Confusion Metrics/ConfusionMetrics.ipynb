{
 "cells": [
  {
   "cell_type": "code",
   "execution_count": 51,
   "metadata": {},
   "outputs": [],
   "source": [
    "import pandas as pd\n",
    "import numpy as np\n",
    "import sklearn\n",
    "from sklearn import *\n",
    "from watson_developer_cloud import ToneAnalyzerV3\n",
    "import json"
   ]
  },
  {
   "cell_type": "code",
   "execution_count": 52,
   "metadata": {},
   "outputs": [
    {
     "name": "stderr",
     "output_type": "stream",
     "text": [
      "/Users/prajakta/anaconda3/lib/python3.7/site-packages/ipykernel_launcher.py:4: DeprecationWarning: watson-developer-cloud moved to ibm-watson. To get updates, use the new package.\n",
      "  after removing the cwd from sys.path.\n"
     ]
    }
   ],
   "source": [
    "tone_analyzer = ToneAnalyzerV3(\n",
    "version='2017-09-21',\n",
    "iam_apikey='your_key',\n",
    "url='https://gateway.watsonplatform.net/tone-analyzer/api')"
   ]
  },
  {
   "cell_type": "code",
   "execution_count": 77,
   "metadata": {},
   "outputs": [
    {
     "data": {
      "text/html": [
       "<div>\n",
       "<style scoped>\n",
       "    .dataframe tbody tr th:only-of-type {\n",
       "        vertical-align: middle;\n",
       "    }\n",
       "\n",
       "    .dataframe tbody tr th {\n",
       "        vertical-align: top;\n",
       "    }\n",
       "\n",
       "    .dataframe thead th {\n",
       "        text-align: right;\n",
       "    }\n",
       "</style>\n",
       "<table border=\"1\" class=\"dataframe\">\n",
       "  <thead>\n",
       "    <tr style=\"text-align: right;\">\n",
       "      <th></th>\n",
       "      <th>lyrics</th>\n",
       "      <th>mood</th>\n",
       "    </tr>\n",
       "  </thead>\n",
       "  <tbody>\n",
       "    <tr>\n",
       "      <th>0</th>\n",
       "      <td>Verse One:\\n\\nAlright I might\\nHave had a litt...</td>\n",
       "      <td>sad</td>\n",
       "    </tr>\n",
       "    <tr>\n",
       "      <th>1</th>\n",
       "      <td>Adam Ant/Marco Pirroni\\nEvery girl is a someth...</td>\n",
       "      <td>happy</td>\n",
       "    </tr>\n",
       "    <tr>\n",
       "      <th>2</th>\n",
       "      <td>I've just erased it's been a while, I've got a...</td>\n",
       "      <td>sad</td>\n",
       "    </tr>\n",
       "    <tr>\n",
       "      <th>3</th>\n",
       "      <td>Little darling \\nWhere you've been so long \\nI...</td>\n",
       "      <td>happy</td>\n",
       "    </tr>\n",
       "    <tr>\n",
       "      <th>4</th>\n",
       "      <td>Lead Vocal by Greg\\n\\nWell, these late night c...</td>\n",
       "      <td>sad</td>\n",
       "    </tr>\n",
       "  </tbody>\n",
       "</table>\n",
       "</div>"
      ],
      "text/plain": [
       "                                              lyrics   mood\n",
       "0  Verse One:\\n\\nAlright I might\\nHave had a litt...    sad\n",
       "1  Adam Ant/Marco Pirroni\\nEvery girl is a someth...  happy\n",
       "2  I've just erased it's been a while, I've got a...    sad\n",
       "3  Little darling \\nWhere you've been so long \\nI...  happy\n",
       "4  Lead Vocal by Greg\\n\\nWell, these late night c...    sad"
      ]
     },
     "execution_count": 77,
     "metadata": {},
     "output_type": "execute_result"
    }
   ],
   "source": [
    "file_data = pd.read_csv(\"train_lyrics_1200.csv\")\n",
    "file_data.head()\n",
    "# file_data=file_data[0:12]\n",
    "# print(file_data)"
   ]
  },
  {
   "cell_type": "code",
   "execution_count": 78,
   "metadata": {},
   "outputs": [],
   "source": [
    "y_true = []\n",
    "y_pred = []\n",
    "\n",
    "for key,value in file_data.iteritems():\n",
    "    if(key == 'mood'):\n",
    "        for val in value:\n",
    "            y_true.append(val)\n",
    "    if(key == 'lyrics'):\n",
    "        for val in value:\n",
    "    #             print(val)\n",
    "    #             print(\"****************\")\n",
    "            tone_analysis = tone_analyzer.tone({'text': val},'application/json').get_result()\n",
    "#             print(tone_analysis)\n",
    "            document_tone = tone_analysis.get(\"document_tone\")\n",
    "            sentences_tone = tone_analysis.get(\"sentences_tone\")\n",
    "            document_tone = document_tone.get('tones')\n",
    "#             print(tone)\n",
    "            sad_score=0\n",
    "            happy_score=0\n",
    "#             analytical_score=0\n",
    "#             tentative_score=0\n",
    "            for t in document_tone:\n",
    "                key = t.get('tone_name')\n",
    "                value = t.get('score')\n",
    "#                 if key == 'Anger':\n",
    "#                     sad_score += value\n",
    "#                 elif key == 'Fear':\n",
    "#                     sad_score += value\n",
    "                if key == 'Sadness':\n",
    "                    sad_score += value\n",
    "                elif key == 'Joy':\n",
    "                    happy_score += value\n",
    "#                 elif key == 'Confident':\n",
    "#                     happy_score += value\n",
    "#                 elif key == 'Analytical':\n",
    "#                     sad_score += value\n",
    "#                 elif key == 'Tentative':\n",
    "#                     sad_score += value\n",
    "#             for sentence in sentences_tone:\n",
    "#                 sentence_tone = sentence.get('tones')\n",
    "#                 for t in sentence_tone: \n",
    "#                     key = t.get('tone_name')\n",
    "#                     value = t.get('score')\n",
    "#                     if key == 'Sadness':\n",
    "#                         sad_score += value\n",
    "#                     elif key == 'Joy':\n",
    "#                         happy_score += value\n",
    "            if sad_score>=happy_score:\n",
    "                y_pred.append('sad')\n",
    "            if happy_score>sad_score:\n",
    "                y_pred.append('happy')"
   ]
  },
  {
   "cell_type": "code",
   "execution_count": 79,
   "metadata": {},
   "outputs": [
    {
     "name": "stdout",
     "output_type": "stream",
     "text": [
      "1200\n",
      "1200\n"
     ]
    }
   ],
   "source": [
    "print(len(y_true))\n",
    "print(len(y_pred))"
   ]
  },
  {
   "cell_type": "code",
   "execution_count": 80,
   "metadata": {},
   "outputs": [],
   "source": [
    "from sklearn.metrics import confusion_matrix"
   ]
  },
  {
   "cell_type": "code",
   "execution_count": 81,
   "metadata": {},
   "outputs": [
    {
     "data": {
      "text/plain": [
       "array([[281, 270],\n",
       "       [133, 516]])"
      ]
     },
     "execution_count": 81,
     "metadata": {},
     "output_type": "execute_result"
    }
   ],
   "source": [
    "confusion_matrix(y_true, y_pred)"
   ]
  },
  {
   "cell_type": "code",
   "execution_count": 82,
   "metadata": {},
   "outputs": [],
   "source": [
    "from sklearn.metrics import f1_score"
   ]
  },
  {
   "cell_type": "code",
   "execution_count": 83,
   "metadata": {},
   "outputs": [
    {
     "data": {
      "text/plain": [
       "0.6507735913776607"
      ]
     },
     "execution_count": 83,
     "metadata": {},
     "output_type": "execute_result"
    }
   ],
   "source": [
    "f1_score(y_true, y_pred, average='macro')"
   ]
  },
  {
   "cell_type": "code",
   "execution_count": 84,
   "metadata": {},
   "outputs": [
    {
     "data": {
      "text/plain": [
       "0.6641666666666667"
      ]
     },
     "execution_count": 84,
     "metadata": {},
     "output_type": "execute_result"
    }
   ],
   "source": [
    "f1_score(y_true, y_pred, average='micro')"
   ]
  },
  {
   "cell_type": "code",
   "execution_count": 85,
   "metadata": {},
   "outputs": [
    {
     "data": {
      "text/plain": [
       "0.6563587887322249"
      ]
     },
     "execution_count": 85,
     "metadata": {},
     "output_type": "execute_result"
    }
   ],
   "source": [
    "f1_score(y_true, y_pred, average='weighted')"
   ]
  },
  {
   "cell_type": "code",
   "execution_count": null,
   "metadata": {},
   "outputs": [],
   "source": []
  }
 ],
 "metadata": {
  "kernelspec": {
   "display_name": "Python 3",
   "language": "python",
   "name": "python3"
  },
  "language_info": {
   "codemirror_mode": {
    "name": "ipython",
    "version": 3
   },
   "file_extension": ".py",
   "mimetype": "text/x-python",
   "name": "python",
   "nbconvert_exporter": "python",
   "pygments_lexer": "ipython3",
   "version": "3.7.1"
  }
 },
 "nbformat": 4,
 "nbformat_minor": 2
}
